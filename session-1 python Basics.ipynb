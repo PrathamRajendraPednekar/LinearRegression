{
 "cells": [
  {
   "cell_type": "markdown",
   "id": "4f36bae2",
   "metadata": {},
   "source": [
    "# Session-1 Python Basics"
   ]
  },
  {
   "cell_type": "markdown",
   "id": "86d5f2e7",
   "metadata": {},
   "source": [
    " Functions"
   ]
  },
  {
   "cell_type": "code",
   "execution_count": 1,
   "id": "595bf912",
   "metadata": {},
   "outputs": [],
   "source": [
    "#Function performs a particular task.\n",
    "#identification ---> function()"
   ]
  },
  {
   "cell_type": "code",
   "execution_count": 2,
   "id": "2133bbdd",
   "metadata": {},
   "outputs": [
    {
     "name": "stdout",
     "output_type": "stream",
     "text": [
      "Hello world\n"
     ]
    }
   ],
   "source": [
    "print(\"Hello world\")"
   ]
  },
  {
   "cell_type": "markdown",
   "id": "170fc966",
   "metadata": {},
   "source": [
    "Variables"
   ]
  },
  {
   "cell_type": "code",
   "execution_count": 9,
   "id": "6b0faf65",
   "metadata": {},
   "outputs": [],
   "source": [
    "# Variable --> - Variables are used to store the values .\n",
    "#              - variables are case sensitive .\n",
    "                  \n",
    "# Define variable rules --> - you can have special character only \"_\" underscored . \n",
    "#                           - you can have numbers but not at the begining , rest you can have at the end of the variable ."
   ]
  },
  {
   "cell_type": "code",
   "execution_count": 3,
   "id": "dede1d0e",
   "metadata": {},
   "outputs": [],
   "source": [
    "a = 12"
   ]
  },
  {
   "cell_type": "code",
   "execution_count": 4,
   "id": "482e6687",
   "metadata": {},
   "outputs": [
    {
     "data": {
      "text/plain": [
       "12"
      ]
     },
     "execution_count": 4,
     "metadata": {},
     "output_type": "execute_result"
    }
   ],
   "source": [
    "a"
   ]
  },
  {
   "cell_type": "code",
   "execution_count": 5,
   "id": "067a31ba",
   "metadata": {},
   "outputs": [],
   "source": [
    "apple = 87"
   ]
  },
  {
   "cell_type": "code",
   "execution_count": 6,
   "id": "96bed049",
   "metadata": {},
   "outputs": [
    {
     "data": {
      "text/plain": [
       "87"
      ]
     },
     "execution_count": 6,
     "metadata": {},
     "output_type": "execute_result"
    }
   ],
   "source": [
    "apple"
   ]
  },
  {
   "cell_type": "code",
   "execution_count": 7,
   "id": "eb2409a3",
   "metadata": {},
   "outputs": [],
   "source": [
    "apple3 = 34"
   ]
  },
  {
   "cell_type": "code",
   "execution_count": 8,
   "id": "8b16874c",
   "metadata": {},
   "outputs": [
    {
     "data": {
      "text/plain": [
       "34"
      ]
     },
     "execution_count": 8,
     "metadata": {},
     "output_type": "execute_result"
    }
   ],
   "source": [
    "apple3 "
   ]
  },
  {
   "cell_type": "code",
   "execution_count": 10,
   "id": "40a4537e",
   "metadata": {},
   "outputs": [],
   "source": [
    "# never use --> 9apple(any number must never come before any char),\n",
    "# apple+,apple*(no special char are allowed in variable)"
   ]
  },
  {
   "cell_type": "code",
   "execution_count": 11,
   "id": "c4abc366",
   "metadata": {},
   "outputs": [],
   "source": [
    "C = 45\n"
   ]
  },
  {
   "cell_type": "code",
   "execution_count": 13,
   "id": "d31d83e5",
   "metadata": {},
   "outputs": [
    {
     "data": {
      "text/plain": [
       "45"
      ]
     },
     "execution_count": 13,
     "metadata": {},
     "output_type": "execute_result"
    }
   ],
   "source": [
    "C"
   ]
  },
  {
   "cell_type": "code",
   "execution_count": 14,
   "id": "c05a3eb5",
   "metadata": {},
   "outputs": [],
   "source": [
    "c = 55"
   ]
  },
  {
   "cell_type": "code",
   "execution_count": 15,
   "id": "9815d0a0",
   "metadata": {},
   "outputs": [
    {
     "data": {
      "text/plain": [
       "45"
      ]
     },
     "execution_count": 15,
     "metadata": {},
     "output_type": "execute_result"
    }
   ],
   "source": [
    "C # it must show 55 but why not shown it becuse it is case sensitive "
   ]
  },
  {
   "cell_type": "markdown",
   "id": "b6b532e7",
   "metadata": {},
   "source": [
    "Data Types In Python"
   ]
  },
  {
   "cell_type": "code",
   "execution_count": 16,
   "id": "4654a55e",
   "metadata": {},
   "outputs": [],
   "source": [
    "#Integer --> int --> 1,2,3,4,5,100\n",
    "#Float --> float --> 5.5, 6.23,23.6, 0.4\n",
    "#Boolean --> bool --> True,False\n",
    "#string --> str --> \"hjbsctyvg%#%$^%124267\",'jhasdytvbj%#$^%$4726834'"
   ]
  },
  {
   "cell_type": "code",
   "execution_count": 17,
   "id": "d229702d",
   "metadata": {},
   "outputs": [
    {
     "name": "stdout",
     "output_type": "stream",
     "text": [
      "<class 'int'>\n"
     ]
    }
   ],
   "source": [
    "print(type(3))"
   ]
  },
  {
   "cell_type": "code",
   "execution_count": 18,
   "id": "bfbde6e0",
   "metadata": {},
   "outputs": [
    {
     "name": "stdout",
     "output_type": "stream",
     "text": [
      "<class 'float'>\n"
     ]
    }
   ],
   "source": [
    "print(type(4.5))"
   ]
  },
  {
   "cell_type": "code",
   "execution_count": 20,
   "id": "69c2eb62",
   "metadata": {},
   "outputs": [
    {
     "name": "stdout",
     "output_type": "stream",
     "text": [
      "<class 'bool'>\n"
     ]
    }
   ],
   "source": [
    "print(type(True))"
   ]
  },
  {
   "cell_type": "code",
   "execution_count": 22,
   "id": "68182477",
   "metadata": {},
   "outputs": [
    {
     "name": "stdout",
     "output_type": "stream",
     "text": [
      "<class 'str'>\n"
     ]
    }
   ],
   "source": [
    "print(type(\"a\"))"
   ]
  },
  {
   "cell_type": "code",
   "execution_count": 23,
   "id": "568c4213",
   "metadata": {},
   "outputs": [],
   "source": [
    "# tuple --> ()\n",
    "# list --> []\n",
    "# set --> {}\n",
    "# Dict --> {}"
   ]
  },
  {
   "cell_type": "code",
   "execution_count": 28,
   "id": "45252bab",
   "metadata": {},
   "outputs": [],
   "source": [
    "mylist = [23,43,'hello',[7,34,56],True]"
   ]
  },
  {
   "cell_type": "code",
   "execution_count": 25,
   "id": "4ee93f8c",
   "metadata": {},
   "outputs": [
    {
     "name": "stdout",
     "output_type": "stream",
     "text": [
      "[23, 43, 'hello', [7, 34, 56], True]\n"
     ]
    }
   ],
   "source": [
    "print(mylist)"
   ]
  },
  {
   "cell_type": "code",
   "execution_count": 26,
   "id": "d7f1f5a6",
   "metadata": {},
   "outputs": [
    {
     "name": "stdout",
     "output_type": "stream",
     "text": [
      "<class 'list'>\n"
     ]
    }
   ],
   "source": [
    "print(type(mylist))"
   ]
  },
  {
   "cell_type": "code",
   "execution_count": 31,
   "id": "245cfe10",
   "metadata": {},
   "outputs": [
    {
     "data": {
      "text/plain": [
       "23"
      ]
     },
     "execution_count": 31,
     "metadata": {},
     "output_type": "execute_result"
    }
   ],
   "source": [
    "mylist[0]"
   ]
  },
  {
   "cell_type": "code",
   "execution_count": 33,
   "id": "924b6373",
   "metadata": {},
   "outputs": [
    {
     "data": {
      "text/plain": [
       "True"
      ]
     },
     "execution_count": 33,
     "metadata": {},
     "output_type": "execute_result"
    }
   ],
   "source": [
    "mylist[4]"
   ]
  },
  {
   "cell_type": "code",
   "execution_count": 34,
   "id": "2d7b0122",
   "metadata": {},
   "outputs": [
    {
     "data": {
      "text/plain": [
       "True"
      ]
     },
     "execution_count": 34,
     "metadata": {},
     "output_type": "execute_result"
    }
   ],
   "source": [
    "mylist[-1]"
   ]
  },
  {
   "cell_type": "code",
   "execution_count": null,
   "id": "63c32fb7",
   "metadata": {},
   "outputs": [],
   "source": [
    "# single Dimension Indexing"
   ]
  },
  {
   "cell_type": "code",
   "execution_count": 35,
   "id": "2d0c928d",
   "metadata": {},
   "outputs": [
    {
     "data": {
      "text/plain": [
       "[7, 34, 56]"
      ]
     },
     "execution_count": 35,
     "metadata": {},
     "output_type": "execute_result"
    }
   ],
   "source": [
    "mylist[3]"
   ]
  },
  {
   "cell_type": "code",
   "execution_count": 36,
   "id": "072c59a8",
   "metadata": {},
   "outputs": [],
   "source": [
    "# Multi-Dimension Indexing"
   ]
  },
  {
   "cell_type": "code",
   "execution_count": 37,
   "id": "0df385c4",
   "metadata": {},
   "outputs": [
    {
     "data": {
      "text/plain": [
       "34"
      ]
     },
     "execution_count": 37,
     "metadata": {},
     "output_type": "execute_result"
    }
   ],
   "source": [
    "mylist[3][1]"
   ]
  },
  {
   "cell_type": "code",
   "execution_count": 38,
   "id": "6b99f642",
   "metadata": {},
   "outputs": [],
   "source": [
    "# mylist = [23,43,'hello',[7,34,56],True]\n",
    "#slicing\n",
    "# start : Stop+1"
   ]
  },
  {
   "cell_type": "code",
   "execution_count": 39,
   "id": "b95e70f9",
   "metadata": {},
   "outputs": [
    {
     "name": "stdout",
     "output_type": "stream",
     "text": [
      "[23, 43, 'hello']\n"
     ]
    }
   ],
   "source": [
    "print(mylist[0:3])"
   ]
  },
  {
   "cell_type": "code",
   "execution_count": 40,
   "id": "e61f7af1",
   "metadata": {},
   "outputs": [
    {
     "name": "stdout",
     "output_type": "stream",
     "text": [
      "[23, 43, 'hello'] [7, 34]\n"
     ]
    }
   ],
   "source": [
    "print(mylist[0:3], mylist [-2][0:2])"
   ]
  },
  {
   "cell_type": "code",
   "execution_count": null,
   "id": "75721a31",
   "metadata": {},
   "outputs": [],
   "source": [
    "# List are mutable or changeable\n",
    "# list uses \"[]\" Square brackets"
   ]
  },
  {
   "cell_type": "code",
   "execution_count": 41,
   "id": "348dce49",
   "metadata": {},
   "outputs": [],
   "source": [
    "mylist = [23,43,'hello',[7,34,56],True]"
   ]
  },
  {
   "cell_type": "code",
   "execution_count": 42,
   "id": "0afb24de",
   "metadata": {},
   "outputs": [],
   "source": [
    "mylist[0] = 88"
   ]
  },
  {
   "cell_type": "code",
   "execution_count": 43,
   "id": "109c88dd",
   "metadata": {},
   "outputs": [
    {
     "data": {
      "text/plain": [
       "[88, 43, 'hello', [7, 34, 56], True]"
      ]
     },
     "execution_count": 43,
     "metadata": {},
     "output_type": "execute_result"
    }
   ],
   "source": [
    "mylist"
   ]
  },
  {
   "cell_type": "code",
   "execution_count": null,
   "id": "e4d4d873",
   "metadata": {},
   "outputs": [],
   "source": [
    "# Tuple are Imutable or unchangeable\n",
    "# Tuple uses \"()\" Rounded brackets"
   ]
  },
  {
   "cell_type": "code",
   "execution_count": 44,
   "id": "2828389f",
   "metadata": {},
   "outputs": [],
   "source": [
    "mytuple = (23,43,'hello',[7,34,56],True)"
   ]
  },
  {
   "cell_type": "code",
   "execution_count": 45,
   "id": "c5345865",
   "metadata": {},
   "outputs": [
    {
     "ename": "TypeError",
     "evalue": "'tuple' object does not support item assignment",
     "output_type": "error",
     "traceback": [
      "\u001b[1;31m---------------------------------------------------------------------------\u001b[0m",
      "\u001b[1;31mTypeError\u001b[0m                                 Traceback (most recent call last)",
      "Cell \u001b[1;32mIn[45], line 1\u001b[0m\n\u001b[1;32m----> 1\u001b[0m mytuple[\u001b[38;5;241m0\u001b[39m] \u001b[38;5;241m=\u001b[39m \u001b[38;5;241m34\u001b[39m\n",
      "\u001b[1;31mTypeError\u001b[0m: 'tuple' object does not support item assignment"
     ]
    }
   ],
   "source": [
    "mytuple[0] = 34"
   ]
  },
  {
   "cell_type": "code",
   "execution_count": 47,
   "id": "0abeeedb",
   "metadata": {},
   "outputs": [],
   "source": [
    "# Interview question - remove the duplicate values  \n",
    "\n",
    "d = [3,3,3,6,6,6,7,7,7,8,8,8]"
   ]
  },
  {
   "cell_type": "code",
   "execution_count": 49,
   "id": "1c0c71d4",
   "metadata": {},
   "outputs": [
    {
     "data": {
      "text/plain": [
       "{3, 6, 7, 8}"
      ]
     },
     "execution_count": 49,
     "metadata": {},
     "output_type": "execute_result"
    }
   ],
   "source": [
    "# set always gives unique values \n",
    "set(d)"
   ]
  },
  {
   "cell_type": "code",
   "execution_count": 50,
   "id": "1545aa59",
   "metadata": {},
   "outputs": [],
   "source": [
    "e = set(d)"
   ]
  },
  {
   "cell_type": "code",
   "execution_count": 51,
   "id": "77ce79dc",
   "metadata": {},
   "outputs": [],
   "source": [
    "f = list(e)"
   ]
  },
  {
   "cell_type": "code",
   "execution_count": 52,
   "id": "0c402866",
   "metadata": {},
   "outputs": [
    {
     "data": {
      "text/plain": [
       "[8, 3, 6, 7]"
      ]
     },
     "execution_count": 52,
     "metadata": {},
     "output_type": "execute_result"
    }
   ],
   "source": [
    "f"
   ]
  },
  {
   "cell_type": "code",
   "execution_count": 80,
   "id": "6d23ef5e",
   "metadata": {},
   "outputs": [],
   "source": [
    "# dictionary are in the form of key and value\n",
    "\n",
    "mydict = {\"Name\" : [\"Pratham\",\"Pednekar\"],\n",
    "          \"Age\" : 19 ,\n",
    "          \"Place\" : \"Mumbai\"}"
   ]
  },
  {
   "cell_type": "code",
   "execution_count": 81,
   "id": "af70dc5a",
   "metadata": {},
   "outputs": [
    {
     "data": {
      "text/plain": [
       "'Pednekar'"
      ]
     },
     "execution_count": 81,
     "metadata": {},
     "output_type": "execute_result"
    }
   ],
   "source": [
    "mydict[\"Name\"][1]"
   ]
  },
  {
   "cell_type": "code",
   "execution_count": 82,
   "id": "6d9d21fa",
   "metadata": {},
   "outputs": [],
   "source": [
    "List1 = [mydict[\"Name\"],mydict[\"Age\"],mydict[\"Place\"]]"
   ]
  },
  {
   "cell_type": "code",
   "execution_count": 83,
   "id": "8d517773",
   "metadata": {},
   "outputs": [
    {
     "data": {
      "text/plain": [
       "[['Pratham', 'Pednekar'], 19, 'Mumbai']"
      ]
     },
     "execution_count": 83,
     "metadata": {},
     "output_type": "execute_result"
    }
   ],
   "source": [
    "List1"
   ]
  },
  {
   "cell_type": "code",
   "execution_count": 86,
   "id": "3d466705",
   "metadata": {},
   "outputs": [],
   "source": [
    "ddd = [23,43,\"hello\",[7,56,[65,53,54]],True]"
   ]
  },
  {
   "cell_type": "code",
   "execution_count": 92,
   "id": "5a735360",
   "metadata": {},
   "outputs": [
    {
     "data": {
      "text/plain": [
       "53"
      ]
     },
     "execution_count": 92,
     "metadata": {},
     "output_type": "execute_result"
    }
   ],
   "source": [
    "ddd [3][2][1]"
   ]
  },
  {
   "cell_type": "code",
   "execution_count": 95,
   "id": "659b5c60",
   "metadata": {},
   "outputs": [
    {
     "data": {
      "text/plain": [
       "(23, True)"
      ]
     },
     "execution_count": 95,
     "metadata": {},
     "output_type": "execute_result"
    }
   ],
   "source": [
    "# If i want any two or three middle value of a list \n",
    "ddd[0],ddd[4]"
   ]
  },
  {
   "cell_type": "code",
   "execution_count": 94,
   "id": "d769f83e",
   "metadata": {},
   "outputs": [
    {
     "data": {
      "text/plain": [
       "5"
      ]
     },
     "execution_count": 94,
     "metadata": {},
     "output_type": "execute_result"
    }
   ],
   "source": [
    "len(ddd)"
   ]
  },
  {
   "cell_type": "code",
   "execution_count": 96,
   "id": "b5f43b1b",
   "metadata": {},
   "outputs": [],
   "source": [
    "a = [12,34,45,\"hello\",67,48,\"World\",87,54,True]"
   ]
  },
  {
   "cell_type": "code",
   "execution_count": 97,
   "id": "ffe1ead0",
   "metadata": {},
   "outputs": [],
   "source": [
    "# In append will bydefault add the value at the end of the list\n",
    "a.append(66)"
   ]
  },
  {
   "cell_type": "code",
   "execution_count": 98,
   "id": "43708439",
   "metadata": {},
   "outputs": [
    {
     "data": {
      "text/plain": [
       "[12, 34, 45, 'hello', 67, 48, 'World', 87, 54, True, 66]"
      ]
     },
     "execution_count": 98,
     "metadata": {},
     "output_type": "execute_result"
    }
   ],
   "source": [
    "a"
   ]
  },
  {
   "cell_type": "code",
   "execution_count": 99,
   "id": "5169deb0",
   "metadata": {},
   "outputs": [],
   "source": [
    "# In insert, it will give u a option that on which index u want to place the value\n",
    "a.insert(0,\"Pratham\")"
   ]
  },
  {
   "cell_type": "code",
   "execution_count": 100,
   "id": "2a4292ac",
   "metadata": {},
   "outputs": [
    {
     "data": {
      "text/plain": [
       "['Pratham', 12, 34, 45, 'hello', 67, 48, 'World', 87, 54, True, 66]"
      ]
     },
     "execution_count": 100,
     "metadata": {},
     "output_type": "execute_result"
    }
   ],
   "source": [
    "a"
   ]
  },
  {
   "cell_type": "code",
   "execution_count": null,
   "id": "a728d1f8",
   "metadata": {},
   "outputs": [],
   "source": [
    "#Statements in Python"
   ]
  },
  {
   "cell_type": "code",
   "execution_count": null,
   "id": "b65f153d",
   "metadata": {},
   "outputs": [],
   "source": [
    "#if,elif,else"
   ]
  },
  {
   "cell_type": "code",
   "execution_count": null,
   "id": "64949b58",
   "metadata": {},
   "outputs": [],
   "source": [
    "var = 12"
   ]
  },
  {
   "cell_type": "code",
   "execution_count": 108,
   "id": "6e634624",
   "metadata": {},
   "outputs": [
    {
     "name": "stdout",
     "output_type": "stream",
     "text": [
      "zzz\n"
     ]
    }
   ],
   "source": [
    "if var > 13:\n",
    "    print(\"hello\")\n",
    "elif var == 12:\n",
    "    print(\"zzz\")\n",
    "else:\n",
    "    print(\"bye\")"
   ]
  },
  {
   "cell_type": "code",
   "execution_count": 110,
   "id": "f2d80b35",
   "metadata": {},
   "outputs": [
    {
     "name": "stdout",
     "output_type": "stream",
     "text": [
      "Enter 1st number: 55\n",
      "Enter 2nd number: 45\n"
     ]
    }
   ],
   "source": [
    "a = int(input(\"Enter 1st number: \"))\n",
    "b = int(input(\"Enter 2nd number: \"))"
   ]
  },
  {
   "cell_type": "code",
   "execution_count": 111,
   "id": "d0941ed6",
   "metadata": {},
   "outputs": [],
   "source": [
    "c = a + b"
   ]
  },
  {
   "cell_type": "code",
   "execution_count": 112,
   "id": "7f1a3766",
   "metadata": {},
   "outputs": [
    {
     "data": {
      "text/plain": [
       "100"
      ]
     },
     "execution_count": 112,
     "metadata": {},
     "output_type": "execute_result"
    }
   ],
   "source": [
    "c"
   ]
  },
  {
   "cell_type": "code",
   "execution_count": 136,
   "id": "c5af6bbb",
   "metadata": {},
   "outputs": [
    {
     "name": "stdout",
     "output_type": "stream",
     "text": [
      "Marks: 1023\n",
      "Enter Valid Marks\n"
     ]
    }
   ],
   "source": [
    "marks = int(input(\"Marks: \"))\n",
    "if marks >= 75 and marks <= 100:\n",
    "    print(\" A grade \")\n",
    "elif marks >= 50 and marks < 75:\n",
    "    print(\"B grade\")\n",
    "elif marks >= 35 and marks < 50:\n",
    "    print(\"C grade\")\n",
    "elif marks >= 0 and marks < 35:\n",
    "    print(\"Fail\")\n",
    "else:\n",
    "    print(\"Enter Valid Marks\")"
   ]
  },
  {
   "cell_type": "code",
   "execution_count": 138,
   "id": "ad05234a",
   "metadata": {},
   "outputs": [],
   "source": [
    "#Loops\n",
    "for \n",
    "while"
   ]
  },
  {
   "cell_type": "code",
   "execution_count": 1,
   "id": "c4d60461",
   "metadata": {},
   "outputs": [
    {
     "name": "stdout",
     "output_type": "stream",
     "text": [
      "Hello\n",
      "Hello\n",
      "Hello\n",
      "Hello\n",
      "Hello\n",
      "Hello\n",
      "Hello\n",
      "Hello\n",
      "Hello\n",
      "Hello\n"
     ]
    }
   ],
   "source": [
    "for i in range(0,10):\n",
    "    print(\"Hello\")"
   ]
  },
  {
   "cell_type": "code",
   "execution_count": null,
   "id": "694826be",
   "metadata": {},
   "outputs": [],
   "source": [
    "#Question \n",
    "\n",
    "# 2 * 1 = 2\n",
    "# 2 * 2 = 4\n",
    "# .\n",
    "# .\n",
    "# 2 * 10 = 20\n"
   ]
  },
  {
   "cell_type": "code",
   "execution_count": 3,
   "id": "ae8b8ef0",
   "metadata": {},
   "outputs": [
    {
     "name": "stdout",
     "output_type": "stream",
     "text": [
      "2 * 0 = 0\n",
      "2 * 1 = 2\n",
      "2 * 2 = 4\n",
      "2 * 3 = 6\n",
      "2 * 4 = 8\n",
      "2 * 5 = 10\n",
      "2 * 6 = 12\n",
      "2 * 7 = 14\n",
      "2 * 8 = 16\n",
      "2 * 9 = 18\n",
      "2 * 10 = 20\n"
     ]
    }
   ],
   "source": [
    "for i in range(0,11):\n",
    "    print(\"2\",\"*\",i,\"=\",i*2)"
   ]
  },
  {
   "cell_type": "code",
   "execution_count": 11,
   "id": "828767fe",
   "metadata": {},
   "outputs": [
    {
     "name": "stdout",
     "output_type": "stream",
     "text": [
      "[23, 12, 76, 0, 99, 77, 11]\n",
      "['hello', 'hi', 'bye', 'Zero']\n",
      "[45.9, 11.0]\n",
      "[(6, 2, 0)]\n",
      "[[23, 'one', 12.7]]\n"
     ]
    }
   ],
   "source": [
    "#question :- sperate this data types \n",
    "my_list = [23,\"hello\",\"hi\",45.9,\"bye\",12,76,\"Zero\",0,99,[23,\"one\",12.7],77,11,(6,2,0),11.0]\n",
    "\n",
    "#Answer :-x\n",
    "list_of_tuple = []\n",
    "list_of_integers = []\n",
    "list_of_float = []\n",
    "list_of_string = []\n",
    "list_of_list = []\n",
    "for i in my_list:\n",
    "    if type(i) == int:\n",
    "        list_of_integers.append(i)\n",
    "    elif type(i) == str:\n",
    "        list_of_string.append(i)\n",
    "    elif type(i) == float:\n",
    "        list_of_float.append(i)\n",
    "    elif type(i) == tuple:\n",
    "        list_of_tuple.append(i)\n",
    "    else type(i) == list:\n",
    "        list_of_list.append(i)\n",
    "print(list_of_integers)\n",
    "print(list_of_string)\n",
    "print(list_of_float)\n",
    "print(list_of_tuple)\n",
    "print(list_of_list)"
   ]
  },
  {
   "cell_type": "code",
   "execution_count": 1,
   "id": "459afd58",
   "metadata": {},
   "outputs": [],
   "source": [
    "def myfunction(number1,number2):\n",
    "    a = number1 + number2\n",
    "    return a "
   ]
  },
  {
   "cell_type": "code",
   "execution_count": 2,
   "id": "ab034061",
   "metadata": {},
   "outputs": [
    {
     "data": {
      "text/plain": [
       "11"
      ]
     },
     "execution_count": 2,
     "metadata": {},
     "output_type": "execute_result"
    }
   ],
   "source": [
    "myfunction(5,6)"
   ]
  },
  {
   "cell_type": "code",
   "execution_count": 1,
   "id": "fafdfcc3",
   "metadata": {},
   "outputs": [],
   "source": [
    "def gettable(number):\n",
    "    for i in range(1,11):\n",
    "          print(number,\"*\",i,\"=\",i*number)"
   ]
  },
  {
   "cell_type": "code",
   "execution_count": 2,
   "id": "11ee72bb",
   "metadata": {},
   "outputs": [
    {
     "name": "stdout",
     "output_type": "stream",
     "text": [
      "5 * 1 = 5\n",
      "5 * 2 = 10\n",
      "5 * 3 = 15\n",
      "5 * 4 = 20\n",
      "5 * 5 = 25\n",
      "5 * 6 = 30\n",
      "5 * 7 = 35\n",
      "5 * 8 = 40\n",
      "5 * 9 = 45\n",
      "5 * 10 = 50\n"
     ]
    }
   ],
   "source": [
    "gettable(5)"
   ]
  },
  {
   "cell_type": "code",
   "execution_count": 3,
   "id": "a03d0beb",
   "metadata": {},
   "outputs": [],
   "source": [
    "def gettable1(number):\n",
    "    try:\n",
    "        out = []\n",
    "        for i in range(1,11):\n",
    "            a = number,\"*\",i,\"=\",i*number\n",
    "            out.append(a)\n",
    "        return out\n",
    "    except:\n",
    "        print(\"error in gettable function\")"
   ]
  },
  {
   "cell_type": "code",
   "execution_count": 5,
   "id": "b1fa9a4b",
   "metadata": {},
   "outputs": [
    {
     "data": {
      "text/plain": [
       "[(3, '*', 1, '=', 3),\n",
       " (3, '*', 2, '=', 6),\n",
       " (3, '*', 3, '=', 9),\n",
       " (3, '*', 4, '=', 12),\n",
       " (3, '*', 5, '=', 15),\n",
       " (3, '*', 6, '=', 18),\n",
       " (3, '*', 7, '=', 21),\n",
       " (3, '*', 8, '=', 24),\n",
       " (3, '*', 9, '=', 27),\n",
       " (3, '*', 10, '=', 30)]"
      ]
     },
     "execution_count": 5,
     "metadata": {},
     "output_type": "execute_result"
    }
   ],
   "source": [
    "gettable1(3)"
   ]
  },
  {
   "cell_type": "code",
   "execution_count": 3,
   "id": "56359a7a",
   "metadata": {},
   "outputs": [],
   "source": [
    "def cube(number):\n",
    "    print(number * number * number)"
   ]
  },
  {
   "cell_type": "code",
   "execution_count": 4,
   "id": "d6303af1",
   "metadata": {},
   "outputs": [
    {
     "name": "stdout",
     "output_type": "stream",
     "text": [
      "64\n"
     ]
    }
   ],
   "source": [
    "cube(4)"
   ]
  },
  {
   "cell_type": "code",
   "execution_count": 19,
   "id": "be142da1",
   "metadata": {},
   "outputs": [],
   "source": [
    "#python for data science"
   ]
  },
  {
   "cell_type": "code",
   "execution_count": 34,
   "id": "47f835e0",
   "metadata": {},
   "outputs": [],
   "source": [
    "# 1,37,000 libraries are their in python\n",
    "# and below are the mostly used libraries and popular once  \n",
    "\n",
    "# Data preprocessing\n",
    "\n",
    "# Pandas - u can do any manipulation in excel file by using pandas and read and also edit the excel file\n",
    "# numpy - stand for numeric python (used for performing mathimatical calaculations)\n",
    "# Matplotlib - used for data visualization (for graphs and all)\n",
    "# seaborn - used for data visualization (An advanced library for data visualization more than matplotlib)\n",
    "\n",
    "# Machine Learning\n",
    "\n",
    "# sklearn - \n",
    "# statmodel - used for time series analysis \n",
    "\n",
    "# deep learning\n",
    "\n",
    "# opencv - used for computer vision \n",
    "# tensorflow\n",
    "# NLTK"
   ]
  },
  {
   "cell_type": "code",
   "execution_count": 36,
   "id": "c0a2db97",
   "metadata": {},
   "outputs": [
    {
     "name": "stdout",
     "output_type": "stream",
     "text": [
      "Requirement already satisfied: Pandas in c:\\users\\prath\\anaconda3\\lib\\site-packages (2.0.3)\n",
      "Requirement already satisfied: python-dateutil>=2.8.2 in c:\\users\\prath\\anaconda3\\lib\\site-packages (from Pandas) (2.8.2)\n",
      "Requirement already satisfied: pytz>=2020.1 in c:\\users\\prath\\anaconda3\\lib\\site-packages (from Pandas) (2023.3.post1)\n",
      "Requirement already satisfied: tzdata>=2022.1 in c:\\users\\prath\\anaconda3\\lib\\site-packages (from Pandas) (2023.3)\n",
      "Requirement already satisfied: numpy>=1.21.0 in c:\\users\\prath\\anaconda3\\lib\\site-packages (from Pandas) (1.24.3)\n",
      "Requirement already satisfied: six>=1.5 in c:\\users\\prath\\anaconda3\\lib\\site-packages (from python-dateutil>=2.8.2->Pandas) (1.16.0)\n"
     ]
    }
   ],
   "source": [
    "! pip install Pandas"
   ]
  },
  {
   "cell_type": "code",
   "execution_count": 38,
   "id": "d4bd6ff0",
   "metadata": {},
   "outputs": [],
   "source": [
    "import pandas as pd"
   ]
  },
  {
   "cell_type": "code",
   "execution_count": 39,
   "id": "c6179dce",
   "metadata": {},
   "outputs": [
    {
     "name": "stdout",
     "output_type": "stream",
     "text": [
      "Requirement already satisfied: numpy in c:\\users\\prath\\anaconda3\\lib\\site-packages (1.24.3)\n"
     ]
    }
   ],
   "source": [
    "! pip install numpy"
   ]
  },
  {
   "cell_type": "code",
   "execution_count": 43,
   "id": "fb1f09a5",
   "metadata": {},
   "outputs": [
    {
     "name": "stdout",
     "output_type": "stream",
     "text": [
      "Requirement already satisfied: Matplotlib in c:\\users\\prath\\anaconda3\\lib\\site-packages (3.7.2)\n",
      "Requirement already satisfied: contourpy>=1.0.1 in c:\\users\\prath\\anaconda3\\lib\\site-packages (from Matplotlib) (1.0.5)\n",
      "Requirement already satisfied: cycler>=0.10 in c:\\users\\prath\\anaconda3\\lib\\site-packages (from Matplotlib) (0.11.0)\n",
      "Requirement already satisfied: fonttools>=4.22.0 in c:\\users\\prath\\anaconda3\\lib\\site-packages (from Matplotlib) (4.25.0)\n",
      "Requirement already satisfied: kiwisolver>=1.0.1 in c:\\users\\prath\\anaconda3\\lib\\site-packages (from Matplotlib) (1.4.4)\n",
      "Requirement already satisfied: numpy>=1.20 in c:\\users\\prath\\anaconda3\\lib\\site-packages (from Matplotlib) (1.24.3)\n",
      "Requirement already satisfied: packaging>=20.0 in c:\\users\\prath\\anaconda3\\lib\\site-packages (from Matplotlib) (23.1)\n",
      "Requirement already satisfied: pillow>=6.2.0 in c:\\users\\prath\\anaconda3\\lib\\site-packages (from Matplotlib) (10.2.0)\n",
      "Requirement already satisfied: pyparsing<3.1,>=2.3.1 in c:\\users\\prath\\anaconda3\\lib\\site-packages (from Matplotlib) (3.0.9)\n",
      "Requirement already satisfied: python-dateutil>=2.7 in c:\\users\\prath\\anaconda3\\lib\\site-packages (from Matplotlib) (2.8.2)\n",
      "Requirement already satisfied: six>=1.5 in c:\\users\\prath\\anaconda3\\lib\\site-packages (from python-dateutil>=2.7->Matplotlib) (1.16.0)\n"
     ]
    }
   ],
   "source": [
    "! pip install Matplotlib"
   ]
  },
  {
   "cell_type": "code",
   "execution_count": 42,
   "id": "04408295",
   "metadata": {},
   "outputs": [
    {
     "name": "stdout",
     "output_type": "stream",
     "text": [
      "Requirement already satisfied: seaborn in c:\\users\\prath\\anaconda3\\lib\\site-packages (0.12.2)\n",
      "Requirement already satisfied: numpy!=1.24.0,>=1.17 in c:\\users\\prath\\anaconda3\\lib\\site-packages (from seaborn) (1.24.3)\n",
      "Requirement already satisfied: pandas>=0.25 in c:\\users\\prath\\anaconda3\\lib\\site-packages (from seaborn) (2.0.3)\n",
      "Requirement already satisfied: matplotlib!=3.6.1,>=3.1 in c:\\users\\prath\\anaconda3\\lib\\site-packages (from seaborn) (3.7.2)\n",
      "Requirement already satisfied: contourpy>=1.0.1 in c:\\users\\prath\\anaconda3\\lib\\site-packages (from matplotlib!=3.6.1,>=3.1->seaborn) (1.0.5)\n",
      "Requirement already satisfied: cycler>=0.10 in c:\\users\\prath\\anaconda3\\lib\\site-packages (from matplotlib!=3.6.1,>=3.1->seaborn) (0.11.0)\n",
      "Requirement already satisfied: fonttools>=4.22.0 in c:\\users\\prath\\anaconda3\\lib\\site-packages (from matplotlib!=3.6.1,>=3.1->seaborn) (4.25.0)\n",
      "Requirement already satisfied: kiwisolver>=1.0.1 in c:\\users\\prath\\anaconda3\\lib\\site-packages (from matplotlib!=3.6.1,>=3.1->seaborn) (1.4.4)\n",
      "Requirement already satisfied: packaging>=20.0 in c:\\users\\prath\\anaconda3\\lib\\site-packages (from matplotlib!=3.6.1,>=3.1->seaborn) (23.1)\n",
      "Requirement already satisfied: pillow>=6.2.0 in c:\\users\\prath\\anaconda3\\lib\\site-packages (from matplotlib!=3.6.1,>=3.1->seaborn) (10.2.0)\n",
      "Requirement already satisfied: pyparsing<3.1,>=2.3.1 in c:\\users\\prath\\anaconda3\\lib\\site-packages (from matplotlib!=3.6.1,>=3.1->seaborn) (3.0.9)\n",
      "Requirement already satisfied: python-dateutil>=2.7 in c:\\users\\prath\\anaconda3\\lib\\site-packages (from matplotlib!=3.6.1,>=3.1->seaborn) (2.8.2)\n",
      "Requirement already satisfied: pytz>=2020.1 in c:\\users\\prath\\anaconda3\\lib\\site-packages (from pandas>=0.25->seaborn) (2023.3.post1)\n",
      "Requirement already satisfied: tzdata>=2022.1 in c:\\users\\prath\\anaconda3\\lib\\site-packages (from pandas>=0.25->seaborn) (2023.3)\n",
      "Requirement already satisfied: six>=1.5 in c:\\users\\prath\\anaconda3\\lib\\site-packages (from python-dateutil>=2.7->matplotlib!=3.6.1,>=3.1->seaborn) (1.16.0)\n"
     ]
    }
   ],
   "source": [
    "! pip install seaborn"
   ]
  },
  {
   "cell_type": "code",
   "execution_count": 44,
   "id": "95f7a85f",
   "metadata": {},
   "outputs": [],
   "source": [
    "import numpy"
   ]
  },
  {
   "cell_type": "code",
   "execution_count": 46,
   "id": "695f8640",
   "metadata": {},
   "outputs": [],
   "source": [
    "import matplotlib"
   ]
  },
  {
   "cell_type": "code",
   "execution_count": 1,
   "id": "b7d65d5d",
   "metadata": {},
   "outputs": [],
   "source": [
    "import seaborn"
   ]
  },
  {
   "cell_type": "code",
   "execution_count": 1,
   "id": "57f62762",
   "metadata": {},
   "outputs": [],
   "source": [
    "def evenodd(n):\n",
    "    if n%2==0:\n",
    "        print(\"even\")\n",
    "    else:\n",
    "        print(\"odd\")"
   ]
  },
  {
   "cell_type": "code",
   "execution_count": 2,
   "id": "838511a0",
   "metadata": {},
   "outputs": [
    {
     "name": "stdout",
     "output_type": "stream",
     "text": [
      "even\n"
     ]
    }
   ],
   "source": [
    "evenodd(2)"
   ]
  },
  {
   "cell_type": "code",
   "execution_count": 3,
   "id": "01a7289a",
   "metadata": {},
   "outputs": [],
   "source": [
    "a = [1,2,3,4,5,6,7,8,9,10]"
   ]
  },
  {
   "cell_type": "code",
   "execution_count": 4,
   "id": "109a18b7",
   "metadata": {},
   "outputs": [
    {
     "data": {
      "text/plain": [
       "[1, 2, 3, 4, 5, 6, 7, 8, 9, 10]"
      ]
     },
     "execution_count": 4,
     "metadata": {},
     "output_type": "execute_result"
    }
   ],
   "source": [
    "a"
   ]
  },
  {
   "cell_type": "code",
   "execution_count": 5,
   "id": "7a24ebc6",
   "metadata": {},
   "outputs": [
    {
     "name": "stdout",
     "output_type": "stream",
     "text": [
      "1\n",
      "3\n",
      "5\n",
      "7\n",
      "9\n"
     ]
    }
   ],
   "source": [
    "for i in a:\n",
    "    if i%2 != 0 :\n",
    "        print (i)"
   ]
  },
  {
   "cell_type": "code",
   "execution_count": null,
   "id": "a4141548",
   "metadata": {},
   "outputs": [],
   "source": []
  }
 ],
 "metadata": {
  "kernelspec": {
   "display_name": "Python 3 (ipykernel)",
   "language": "python",
   "name": "python3"
  },
  "language_info": {
   "codemirror_mode": {
    "name": "ipython",
    "version": 3
   },
   "file_extension": ".py",
   "mimetype": "text/x-python",
   "name": "python",
   "nbconvert_exporter": "python",
   "pygments_lexer": "ipython3",
   "version": "3.11.5"
  }
 },
 "nbformat": 4,
 "nbformat_minor": 5
}
